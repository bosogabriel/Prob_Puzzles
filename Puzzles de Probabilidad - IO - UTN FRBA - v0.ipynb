{
 "cells": [
  {
   "cell_type": "markdown",
   "metadata": {},
   "source": [
    "# Universidad Tecnologica Nacional\n",
    "# Ingeniería Industrial\n"
   ]
  },
  {
   "cell_type": "markdown",
   "metadata": {},
   "source": [
    "#### Autor: Boso Gabriel\n",
    "#### Cátedra de Investigación Operativa - Curso I4051 - Turno Miércoles Noche - Docente: Martín Palazzo"
   ]
  },
  {
   "cell_type": "markdown",
   "metadata": {},
   "source": [
    "# Resolviendio Problemas Probabilisticos c/Python\n"
   ]
  },
  {
   "cell_type": "markdown",
   "metadata": {},
   "source": [
    "# Indice \n",
    "1. [Monty Hall](#Monty-Hall)<br>\n",
    "    1.1 [Problema](#Problema)<br>\n",
    "    1.2 [Premisas](#Premisas)<br>\n",
    "    1.3 [Definición de Variables](#Definicion-de-variables)<br>\n",
    "    1.4 [Casos a probar](#Casos-a-probar)<br>\n",
    "    1.5 [Simulación](#Simulacion)<br>\n",
    "    1.6 [Resultados y conclusiones](#Resultados-y-conclusiones)\n",
    "2. [Tarea para el hogar](#Tarea-para-el-hogar)<br>\n",
    "    2.1 [La caja de Bertrand](#La-caja-de-Bertrand)<br>\n",
    "    2.2 [Paradoja de los hijos](#Paradoja-de-los-hijos)<br>\n",
    "    2.3 [Problema del prisionero](#Problema-del-prisionero)"
   ]
  },
  {
   "cell_type": "markdown",
   "metadata": {},
   "source": [
    "\n",
    "## Monty Hall\n"
   ]
  },
  {
   "cell_type": "markdown",
   "metadata": {},
   "source": [
    "\n",
    "### Problema\n",
    "\n",
    "El concursante debe elegir una puerta entre tres (todas cerradas); el premio consiste en llevarse lo que se encuentra detrás de la elegida. Se sabe con certeza que tras una de ellas se oculta un automóvil, y tras las otras dos hay cabras. Una vez que el concursante haya elegido una puerta y comunicado su elección a los presentes, el presentador, que sabe lo que hay detrás de cada puerta, abrirá una de las otras dos en la que haya una cabra. A continuación, le da la opción al concursante de cambiar, si lo desea, de puerta (tiene dos opciones). ¿Debe el concursante mantener su elección original o escoger la otra puerta? ¿Hay alguna diferencia?\n"
   ]
  },
  {
   "cell_type": "markdown",
   "metadata": {},
   "source": [
    "\n",
    "### Premisas\n",
    "\n",
    "- Existe un solo premio de valor que sería el auto\n",
    "- El participante solo puede eligir 1 puerta\n",
    "- El presentador siempre abre una puerta que no contiene el premio de valor\n",
    "- El participante luego de que el presentador abra una puerta puede escoger entre quedarse con la que eligio inicialmente o cambiarla\n",
    "\n"
   ]
  },
  {
   "cell_type": "markdown",
   "metadata": {},
   "source": [
    "### Definicion de variables\n",
    "\n",
    "- ___X___: puerta en la que esta el premio - variable aleatoria independiente\n",
    "- ___Y___: elección inicial del participante - variable aleatoria independiente\n",
    "- ___Z___: puerta sin premio abierta por el presentador - variable aleatoria dependiente\n"
   ]
  },
  {
   "cell_type": "code",
   "execution_count": 1,
   "metadata": {},
   "outputs": [],
   "source": [
    "#Importamos las librerias\n",
    "import random\n",
    "import numpy as np"
   ]
  },
  {
   "cell_type": "code",
   "execution_count": 2,
   "metadata": {},
   "outputs": [],
   "source": [
    "def random_X():\n",
    "    '''\n",
    "    Función que devuelve el valor de X\n",
    "    '''\n",
    "    value=int(random.uniform(1,4))\n",
    "    if value ==4:\n",
    "        value-=1\n",
    "    return value\n",
    "def random_Y():\n",
    "    '''\n",
    "    Función que devuelve el valor de Y\n",
    "    '''\n",
    "    value=int(random.uniform(1,4))\n",
    "    if value ==4:\n",
    "        value-=1\n",
    "    return value\n",
    "\n",
    "def random_Z(X,Y):\n",
    "    '''\n",
    "    Función que devuelve el valor de Z dado el valor de X e Y\n",
    "    '''\n",
    "    doors=[1,2,3]\n",
    "    try:\n",
    "        if X==Y:\n",
    "            doors.remove(X)\n",
    "            return doors[int(random.uniform(0,2))]\n",
    "            \n",
    "        else:\n",
    "            doors.remove(Y)\n",
    "            doors.remove(X)\n",
    "            return doors[0]\n",
    "        \n",
    "    except:\n",
    "        print(\"Ups...esa puerta no existe\")\n",
    "        raise ValueError('Error en numero de puerta')\n"
   ]
  },
  {
   "cell_type": "markdown",
   "metadata": {},
   "source": [
    "### Casos a probar\n",
    "\n",
    "Voy a crear un diccionario cuya clave sera cuantos intentos el participante hará antes de optar por la estrategia de cambiar de puerta. \n",
    "A cada clave le correspondera un vector que me indicara con 1 cuando ganó y con 0 cuando perdio\n",
    "\n",
    "Visto que queremos saber si conviene cambiar la elección, vamos a decir que 0 implica que nunca cambia su elección, y que 1 su inversa"
   ]
  },
  {
   "cell_type": "code",
   "execution_count": 3,
   "metadata": {},
   "outputs": [],
   "source": [
    "#Defino escenarios cantidad de escenarios\n",
    "n_cases=2\n",
    "\n",
    "#Creo un diccionario que me dice cada cuantos intentos en el juego el participante decide cambiar de elección\n",
    "case={}\n",
    "for i in range(0,n_cases):\n",
    "    #setdefault nos permite ver si una llave esta en el diccionario, si no existe la agrega c/ un valor por defecto\n",
    "    case.setdefault(i,[]) \n",
    "\n",
    "# 0 = nunca cambia de la elección inicial | 1 = siempre cambia de la elección inicial | n = al intento n cambia la elección inicial  "
   ]
  },
  {
   "cell_type": "markdown",
   "metadata": {},
   "source": [
    "### Simulacion\n",
    "\n",
    "1. Se define cuantas juegos se jugaran\n",
    "2. Se determina la puerta con premio (X) y la eleccioón inicial (Y).\n",
    "3. Abre la puerta el presentador (Z)\n",
    "4. Evaluo cada caso - for loop a traves del diccionario\n",
    "5. Evaluo si gano o perdio y guardo el resultado"
   ]
  },
  {
   "cell_type": "code",
   "execution_count": 4,
   "metadata": {},
   "outputs": [],
   "source": [
    "#Defino cuantas veces voy a simular la variable aleatoria\n",
    "runs=10000\n",
    "\n",
    "for i in range (0,runs):\n",
    "    X=random_X()\n",
    "    Y=random_Y()\n",
    "    \n",
    "    #Obtengo el resultado para cada escenario\n",
    "    for j in case:\n",
    "        #Presentador abre la puerta Z\n",
    "        Z=random_Z(X,Y)\n",
    "        options=[1,2,3]\n",
    "        options.remove(Z)\n",
    "        if j==0 or i % j !=0: #Participante NO cambia de puerta \n",
    "            if Y == X: #Verifico si gano o perdio \n",
    "                case[j].extend([1])\n",
    "            else:\n",
    "                case[j].extend([0])\n",
    "        else: #Participante cambia de puerta \n",
    "            options.remove(Y)\n",
    "            if options[0] == X: #Verifico si gano o perdio \n",
    "                case[j].extend([1])\n",
    "            else:\n",
    "                case[j].extend([0])\n",
    "            \n",
    "                "
   ]
  },
  {
   "cell_type": "markdown",
   "metadata": {},
   "source": [
    "### Resultados y conclusiones\n",
    "\n",
    "Obtendremos para cada caso el porcentaje de victorias como cantidad de victorias sobre total de simulaciones hechas. \n",
    "\n",
    "Aquel caso cuyo valor sea mayor será la mejor estrategia a tomar ante el problema."
   ]
  },
  {
   "cell_type": "code",
   "execution_count": 5,
   "metadata": {},
   "outputs": [
    {
     "name": "stdout",
     "output_type": "stream",
     "text": [
      "Cambiar siempre de puerta es la mejor estrategia - Probabilidad de victoria: 66.8%\n"
     ]
    }
   ],
   "source": [
    "perc_victories = []\n",
    "for i in case:\n",
    "    results=np.array(case[i])\n",
    "    perc_victories.append(np.sum(results)/runs)\n",
    "\n",
    "if np.argmax(perc_victories) == 0:\n",
    "    print('No cambiar de puerta es la mejor estrategia - Probabilidad de victoria: '+str(np.amax(perc_victories)*100)+'%')\n",
    "elif np.argmax(perc_victories)==1:\n",
    "    print('Cambiar siempre de puerta es la mejor estrategia - Probabilidad de victoria: '+str(np.amax(perc_victories)*100)+'%')\n",
    "else:\n",
    "    print('El caso '+str(np.argmax(perc_victories))+' es la mejor estrategia - Probabilidad de victoria: '+str(np.amax(perc_victories)*100)+'%')\n",
    "    "
   ]
  },
  {
   "cell_type": "code",
   "execution_count": 6,
   "metadata": {},
   "outputs": [
    {
     "data": {
      "text/plain": [
       "[0.332, 0.668]"
      ]
     },
     "execution_count": 6,
     "metadata": {},
     "output_type": "execute_result"
    }
   ],
   "source": [
    "perc_victories"
   ]
  },
  {
   "cell_type": "markdown",
   "metadata": {},
   "source": [
    "## Tarea para el hogar"
   ]
  },
  {
   "cell_type": "markdown",
   "metadata": {},
   "source": [
    "### La caja de Bertrand\n",
    "\n",
    "En una habitación hay tres escritorios iguales con dos cajones cada uno. Uno de los escritorios tiene una moneda de oro en cada cajón; otro tiene una moneda de plata en cada uno mientras que en el restante hay una moneda de cada metal. Desde afuera no hay manera de decidir qué contiene cada cajón.\n",
    "\n",
    "Usted entra en esa habitación y elige un cajón de cualquiera de los tres escritorios. Lo abre y descubre que adentro hay una moneda de oro. Aquí es donde viene la pregunta (y el problema):\n",
    "\n",
    "“¿Cuál es la probabilidad de que en el otro cajón del mismo escritorio, haya también una moneda de oro?”"
   ]
  },
  {
   "cell_type": "code",
   "execution_count": null,
   "metadata": {},
   "outputs": [],
   "source": []
  },
  {
   "cell_type": "markdown",
   "metadata": {},
   "source": [
    "### Paradoja de los hijos\n",
    "\n",
    "El matrimonio Smith camina por la calle y se encuentra a don Pepito. Don Pepito reconoce a su amigo del colegio José Smith, así que se detienen a saludarse: “Hola, don Pepito”, “Hola, don José”. “¿Recuerda usted a mi esposa?”-dice don José, señalando a su pareja. Don Pepito asiente-. ¿Y a mi hijo Joseíto? -dice, señalando a un chico que va a su lado.\n",
    "\n",
    "Sabiendo que el matrimonio Smith tiene dos hijos, ¿cuál es la probabilidad de que el otro hijo sea también varón? (Suponemos que la probabilidad de nacer hombre o mujer es 0.5)."
   ]
  },
  {
   "cell_type": "code",
   "execution_count": null,
   "metadata": {},
   "outputs": [],
   "source": []
  },
  {
   "cell_type": "markdown",
   "metadata": {},
   "source": [
    "### Problema del prisionero\n",
    "\n",
    "En una cárcel, tres prisioneros de historiales similares, solicitan el indulto a un tribunal. Poco después se sabe que el indulto ha sido concedido a dos de los tres presos. Uno de los prisioneros conoce a uno de los miembros del tribunal y sabe que si le pregunta podrá obtener algo de información. Podrá preguntarle por el nombre de uno de los indultados, pero no podrá preguntar si él es uno de ellos. \n",
    "\n",
    "Reflexionando, concluye que, si no pregunta, la probabilidad de ser uno de los indultados es 2/3; mientras que, si pregunta, obtendrá una respuesta, y entonces la probabilidad de ser él otro de los indultados es 1/2. Por lo tanto, concluye que será mejor no preguntar, puesto que eso solo le servirá para disminuir su probabilidad de ser uno de los indultados.\n",
    "\n",
    "¿Es correcto el razonamiento del preso?"
   ]
  },
  {
   "cell_type": "code",
   "execution_count": null,
   "metadata": {},
   "outputs": [],
   "source": []
  },
  {
   "cell_type": "markdown",
   "metadata": {},
   "source": [
    "## -Dejar para Simplex-"
   ]
  },
  {
   "cell_type": "code",
   "execution_count": null,
   "metadata": {},
   "outputs": [],
   "source": []
  },
  {
   "cell_type": "code",
   "execution_count": null,
   "metadata": {},
   "outputs": [],
   "source": []
  },
  {
   "cell_type": "markdown",
   "metadata": {},
   "source": [
    "## 50 blancas y 50 negras\n"
   ]
  },
  {
   "cell_type": "code",
   "execution_count": null,
   "metadata": {},
   "outputs": [],
   "source": []
  },
  {
   "cell_type": "markdown",
   "metadata": {},
   "source": [
    "### Enunciado\n",
    "\n",
    "Eres un preso que ha sido condenado a muerte. Pero te ofrecen una oportunidad de vivir si consigues jugar bien a este simple juego.\n",
    "\n",
    "Te dan 50 bolas de mármol negras, 50 bolas blancas y dos cuencos vacíos.\n",
    "\n",
    "Luego, te dicen: \"Divide estas 100 bolas en estos dos cuencos. Puedes dividirlas de la forma que quieras mientras uses todas las bolas.\n",
    "\n",
    "\"Luego, te cubriremos los ojos y removeremos las bolas. Tendrás que elegir un cuenco y sacar una bola. Si es blanca, vivirás, pero si es negra...morirás\".\n",
    "\n",
    "¿Cómo tienes que dividir las bolas para que tengas las mayores probabilidades de elegir una bola blanca?\n"
   ]
  },
  {
   "cell_type": "markdown",
   "metadata": {},
   "source": [
    "\n",
    "### Premisas y observaciones\n",
    "\n",
    "- Hay que dividir todas las bolas entre ambos cuencos\n",
    "- No puede quedar un cuenco completamente vacio\n",
    "- La elección del cuenco del que sacaremos una bola de color es aleatorea\n",
    "- Se saca de forma aleatorea la bola de color dentro del cuenco\n",
    "\n",
    "Visto a que cada cuenco debe tener por lo menos 1 bola de color, podemos asumir que el mismo tiene disponible 98 posiciones disponibles. Cada posicion puede tomar uno de las siguientes valores:\n",
    "- Bola Blanca\n",
    "- Bola Negra\n",
    "- Vacio\n",
    "\n",
    "Tambien sabemos que deben usarse todas las bolas de color por lo tanto cada posición vacia en un cuenco es correspondido por una bola de color en el otro. De esta manera, con determinar el contenido de un cuenco estamos fijando el contenido del otro."
   ]
  },
  {
   "cell_type": "code",
   "execution_count": 7,
   "metadata": {
    "scrolled": true
   },
   "outputs": [
    {
     "name": "stdout",
     "output_type": "stream",
     "text": [
      "Matematicamente hablando esto nos da 57264168970223481226273458862846808078011946891 maneras de llenar un cuenco\n"
     ]
    }
   ],
   "source": [
    "print('Matematicamente hablando esto nos da '+str(2+3**98)+' maneras de llenar un cuenco') "
   ]
  },
  {
   "cell_type": "markdown",
   "metadata": {},
   "source": [
    "Simular n veces para cada combinación, con el fin de obtener la probabilidad de ganar en cada una, resultaria demasiado costoso a nivel de procesamiento.\n",
    "\n",
    "En consecuencia, adoptaremos un enfoque iterativo, es decir, armaremos un algoritmo de manera tal que desde un estado inicial, se itere hasta que llegue a un resultado que cumpla con un error aceptable pautado."
   ]
  },
  {
   "cell_type": "markdown",
   "metadata": {},
   "source": [
    "### Variables y funciones\n",
    "\n",
    "- ___X___: cuenco del que sacaremos una bola de color - variable aleatoria independiente\n",
    "- ___Y___: bola de color elegida dentro del cuenco - variable aleatoria dependiente\n"
   ]
  },
  {
   "cell_type": "code",
   "execution_count": 150,
   "metadata": {},
   "outputs": [],
   "source": [
    "def random_X():\n",
    "    \"\"\"\n",
    "    Función que devuelve X - cuenco con bolas de color\n",
    "    \"\"\"\n",
    "    value=int(random.uniform(0,2))\n",
    "    if value==2:\n",
    "        value-=1\n",
    "    return value\n",
    "def random_Y(box):\n",
    "    \"\"\"\n",
    "    Función que devuelve X - cuenco con bolas de color\n",
    "    Recibe un vector cuyas posiciones contienen lo que haya dentro del cuenco\n",
    "    Devuelve una posición al azar del contenido de la cuenca\n",
    "    \"\"\"\n",
    "    while 'Vacio' in box:\n",
    "        box.remove('Vacio')\n",
    "    position=int(random.uniform(0,len(box)))\n",
    "    if position == len(box):\n",
    "        position-=1\n",
    "    return box[position]\n",
    "\n",
    "def create_box_content(white,black,empty):\n",
    "    \"\"\"\n",
    "    Función que devuelve dos vectores, cada uno con el contenido del cuenco en base a la cantidad de bolas blancas,\n",
    "    negras y posiciones vacios se ingresen en 1.\n",
    "    white: cantidad de bolas blancas en cuenco 1\n",
    "    black: cantidad de bolas negras en cuenco 1\n",
    "    empty: cantidad de espacios vacios en cuenco 1\n",
    "    \"\"\"\n",
    "    #Validaciones de entrada\n",
    "    if not(isinstance(white,int)) or not(isinstance(black,int)) or not(isinstance(empty,int)):\n",
    "        return [],[]\n",
    "    elif white+black+empty > 99:\n",
    "        return [],[]\n",
    "    elif white>50 or white<0:\n",
    "        return [],[]\n",
    "    elif black>50 or black<0:\n",
    "        return [],[]\n",
    "    elif empty>98 or empty<0:\n",
    "        return [],[]\n",
    "\n",
    "    #Armo vector del cuenco\n",
    "    box_1=[]\n",
    "    box_2=[]\n",
    "    #armo vectores de con las cantidades de blancos, negros y vacios para cada cuenco\n",
    "    wh_box_1=['Blanco']*white\n",
    "    bl_box_1=['Negro']*black\n",
    "    em_box_1=['Vacio']*empty\n",
    "    wh_box_2=['Blanco']*(50-white)\n",
    "    bl_box_2=['Negro']*(50-black)\n",
    "    em_box_2=['Vacio']*(99-(50-black)-(50-white))\n",
    "    #Lleno el vector cada cuenco \n",
    "    if black==0:\n",
    "        box_1.extend(wh_box_1)\n",
    "        box_1.extend(em_box_1)\n",
    "        \n",
    "        box_2.extend(bl_box_2)\n",
    "        box_2.extend(em_box_2)\n",
    "        \n",
    "    elif white==0:\n",
    "        box_1.extend(bl_box_1)\n",
    "        box_1.extend(em_box_1)\n",
    "        \n",
    "        box_2.extend(wh_box_2)\n",
    "        box_2.extend(em_box_2)\n",
    "        \n",
    "    elif empty==0:\n",
    "        box_1.extend(wh_box_1)\n",
    "        box_1.extend(bl_box_1)\n",
    "        \n",
    "        if white==49:\n",
    "            box_2.extend(wh_box_2)\n",
    "            box_2.extend(em_box_2)\n",
    "        elif black==49:\n",
    "            box_2.extend(bl_box_2)\n",
    "            box_2.extend(em_box_2)\n",
    "            \n",
    "    else:\n",
    "        box_1.extend(wh_box_1)\n",
    "        box_1.extend(bl_box_1)\n",
    "        box_1.extend(em_box_1)\n",
    "        \n",
    "        box_2.extend(wh_box_2)\n",
    "        box_2.extend(bl_box_2)\n",
    "        box_2.extend(em_box_2)\n",
    "    \n",
    "    #mezclo el contenido de cada cuenco\n",
    "    random.shuffle(box_1)\n",
    "    random.shuffle(box_2)\n",
    "    \n",
    "    return box_1,box_2\n",
    "\n",
    "def game_simulation(runs,white,black,empty):\n",
    "    \"\"\"\n",
    "    Función que simula el juego planteado y devuelve la probabilidad de ganar\n",
    "    \"\"\"\n",
    "    results=[]\n",
    "    box_1,box_2=create_box_content(white,black,empty)\n",
    "    if box_1!=[] and box_2!=[]:\n",
    "        first_choice=[box_1,box_2]\n",
    "        for i in range(0,runs):\n",
    "            X=random_X()\n",
    "            chosen_box=first_choice[X]\n",
    "            Y=random_Y(chosen_box)\n",
    "            if Y=='Blanco':\n",
    "                results.extend([1])\n",
    "            else:\n",
    "                results.extend([0])\n",
    "        perc_victory=results.count(1)/len(results)\n",
    "        return perc_victory\n",
    "    else: #En caso de ser un paso no posible, la posibilidad de ganar la ponemos en 0\n",
    "        return 0\n"
   ]
  },
  {
   "cell_type": "markdown",
   "metadata": {},
   "source": [
    "### Iteracion y simulacion\n",
    "\n",
    "Debemos definir los criterios que nos permitan poder iterar de manera finita y obtener un resultado satisfactorio.\n",
    "1. Estado inicial del sistema - Arbitrariamente ponemos 50 blancas en un cuenco y 50 negras en el otro\n",
    "2. Criterio de corte - Cuando la mejora con respecto a la iteracion anterior sea menor a un 1%\n",
    "3. Paso - Cuantas posiciones variaran entre una iteración y otra, eligiremos 5\n",
    "4. Criterio de variación - Que variara para mejorar en la siguiente iteracion, veremos en el codigo la implementación\n",
    "\n",
    "Para obtener la probabilidad de victoria de cada combinación, haremos 100 juegos por cada iteración."
   ]
  },
  {
   "cell_type": "code",
   "execution_count": 163,
   "metadata": {},
   "outputs": [
    {
     "name": "stdout",
     "output_type": "stream",
     "text": [
      "La probabilidad mas alta es de: 68.82000000000001%, y se da llenando los cuencos asi:\n",
      "Cuenco 1: 12 bolas blancas y 1 bolas negras\n",
      "Cuenco 2: 38 bolas blancas y 49 bolas negras\n",
      "Tomo 31 iteraciones para llegar al resultado\n"
     ]
    }
   ],
   "source": [
    "from collections import Counter\n",
    "\n",
    "#Definimos estado inicial\n",
    "white=50\n",
    "black=0\n",
    "empty=49\n",
    "box1=[]\n",
    "box2=[]\n",
    "memory=1\n",
    "#Definimos variables para evaluar la mejora - Los seteo en valores iniciales arbitrariamente \n",
    "perc_vict_prv=100\n",
    "perc_vict=100000\n",
    "\n",
    "#Definimos cantidad de simulaciones por juego\n",
    "runs=10000\n",
    "\n",
    "#Creamos variables para contar cantidad de iteraciones\n",
    "count_iter_num=0\n",
    "\n",
    "#Creamos variable para determinar el paso\n",
    "step_variation=10\n",
    "#Armamos iteracion con condicion de corte\n",
    "while (perc_vict-perc_vict_prv)/perc_vict_prv>=0.01 or step_variation>0:\n",
    "    #Guardamos el resultado de la iteración anterior\n",
    "    perc_vict_prv=perc_vict\n",
    "    white_prv=white\n",
    "    black_prv=black\n",
    "    empty_prv=empty\n",
    "    if count_iter_num==0:\n",
    "        perc_vict=game_simulation(runs,white,black,empty)\n",
    "\n",
    "    #Armamos un algoritmo que aplique el paso en cada variación posible\n",
    "    \n",
    "    variations=[]\n",
    "    variation_type=['+Blancos','+Negros','-Blancos','-Negros','Cambio Blanco por Negro', 'Cambio Negro por Blanco']\n",
    "    memory=[]\n",
    "    #Agregar blancos\n",
    "    fill_white=game_simulation(runs,white+step_variation,black,empty-step_variation)\n",
    "    variations.append([white+step_variation,black,empty-step_variation,fill_white])\n",
    "        \n",
    "    #Agregar negros\n",
    "    fill_black=game_simulation(runs,white,black+step_variation,empty-step_variation)\n",
    "    variations.append([white,black+step_variation,empty-step_variation,fill_black])\n",
    "        \n",
    "    #Quitar blancos\n",
    "    remove_white=game_simulation(runs,white-step_variation,black,empty+step_variation)\n",
    "    variations.append([white-step_variation,black,empty+step_variation,remove_white])\n",
    "        \n",
    "    #Quitar negros\n",
    "    remove_black=game_simulation(runs,white,black-step_variation,empty+step_variation)\n",
    "    variations.append([white,black-step_variation,empty+step_variation,remove_black])\n",
    "    \n",
    "    #Cambio blancos por negros\n",
    "    change_white=game_simulation(runs,white-step_variation,black+step_variation,empty)\n",
    "    variations.append([white-step_variation,black+step_variation,empty,change_white])\n",
    "        \n",
    "    #Cambio negros por blancos\n",
    "    change_black=game_simulation(runs,white+step_variation,black-step_variation,empty)\n",
    "    variations.append([white,black-step_variation,empty+step_variation,change_black])\n",
    "\n",
    "    #Obtenemos la mayor probabilidad y vemos si mejoro, si no mejoro diminuimos el paso\n",
    "    MaxValColumns=np.argmax(variations, axis=0)\n",
    "    if variations[MaxValColumns[3]][3]>=perc_vict:\n",
    "        perc_vict=variations[MaxValColumns[3]][3]\n",
    "        white=variations[MaxValColumns[3]][0]\n",
    "        black=variations[MaxValColumns[3]][1]\n",
    "        empty=variations[MaxValColumns[3]][2]\n",
    "        box1,box2=create_box_content(white,black,empty)\n",
    "        memory.extend(variation_type[MaxValColumns[3]])\n",
    "    elif memory==1:#checkeo si el proceso tiene memoria\n",
    "        #Si el la iteración no mejoró, tomará como base el que más veces la ayudo a mejorar y tomará ese camino\n",
    "        occurence_count = Counter(memory) \n",
    "        mem_step=variation_type.index(occurence_count.most_common(1)[0][0])\n",
    "        if variations[mem_step][3]!=0:\n",
    "            perc_vict=variations[mem_step][3]\n",
    "            white=variations[mem_step][0]\n",
    "            black=variations[mem_step][1]\n",
    "            empty=variations[mem_step][2]\n",
    "            box1,box2=create_box_content(white,black,empty)\n",
    "        if count_iter_num%10==0:\n",
    "            step_variation=step_variation//2\n",
    "    elif count_iter_num%10==0:\n",
    "        step_variation=step_variation//2\n",
    "\n",
    "    #Cuento numero de iteración\n",
    "    count_iter_num+=1\n",
    "\n",
    "print('La probabilidad mas alta es de: '+str(perc_vict_prv*100)+'%, y se da llenando los cuencos asi:')\n",
    "print('Cuenco 1: '+str(box1.count('Blanco'))+' bolas blancas y '+str(box1.count('Negro'))+' bolas negras')\n",
    "print('Cuenco 2: '+str(box2.count('Blanco'))+' bolas blancas y '+str(box2.count('Negro'))+' bolas negras')\n",
    "print('Tomo '+str(count_iter_num)+' iteraciones para llegar al resultado')\n",
    "\n"
   ]
  },
  {
   "cell_type": "code",
   "execution_count": null,
   "metadata": {},
   "outputs": [],
   "source": []
  }
 ],
 "metadata": {
  "kernelspec": {
   "display_name": "Python 3",
   "language": "python",
   "name": "python3"
  },
  "language_info": {
   "codemirror_mode": {
    "name": "ipython",
    "version": 3
   },
   "file_extension": ".py",
   "mimetype": "text/x-python",
   "name": "python",
   "nbconvert_exporter": "python",
   "pygments_lexer": "ipython3",
   "version": "3.7.5"
  }
 },
 "nbformat": 4,
 "nbformat_minor": 2
}

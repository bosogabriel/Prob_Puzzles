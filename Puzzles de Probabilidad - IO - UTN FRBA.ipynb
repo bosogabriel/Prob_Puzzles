{
 "cells": [
  {
   "cell_type": "markdown",
   "metadata": {},
   "source": [
    "# Universidad Tecnologica Nacional\n",
    "# Ingeniería Industrial\n"
   ]
  },
  {
   "cell_type": "markdown",
   "metadata": {},
   "source": [
    "#### Autor: Boso Gabriel\n",
    "#### Cátedra de Investigación Operativa - Curso I4051 - Turno Miércoles Noche - Docente: Martín Palazzo"
   ]
  },
  {
   "cell_type": "markdown",
   "metadata": {},
   "source": [
    "# Resolviendio Problemas Probabilisticos c/Python\n"
   ]
  },
  {
   "cell_type": "markdown",
   "metadata": {},
   "source": [
    "# Indice \n",
    "1. [Monty Hall](#Monty-Hall)<br>\n",
    "    1.1 [Problema](#Problema)<br>\n",
    "    1.2 [Premisas](#Premisas)<br>\n",
    "    1.3 [Definición de Variables](#Definicion-de-variables)<br>\n",
    "    1.4 [Casos a probar](#Casos-a-probar)<br>\n",
    "    1.5 [Simulación](#Simulacion)<br>\n",
    "    1.6 [Resultados y conclusiones](#Resultados-y-conclusiones)\n",
    "2. [50 blancas y 50 negras](#50-blancas-y-50-negras)<br>\n",
    "    2.1 [Enunciado](#Enunciado)<br>\n",
    "    2.2 [Premisas y observaciones](#Premisas-y-observaciones)<br>\n",
    "    2.3 [Variables y funciones](#Variables-y-funciones)<br>\n",
    "    2.4 [Iteracion y simulacion](#Iteracion-y-simulacion)\n",
    "3. [Tarea para el hogar](#Tarea-para-el-hogar)<br>\n",
    "    3.1 [La caja de Bertrand](#La-caja-de-Bertrand)<br>\n",
    "    3.2 [Paradoja de los hijos](#Paradoja-de-los-hijos)<br>\n",
    "    3.3 [Problema del prisionero](#Problema-del-prisionero)"
   ]
  },
  {
   "cell_type": "markdown",
   "metadata": {},
   "source": [
    "\n",
    "## Monty Hall\n"
   ]
  },
  {
   "cell_type": "markdown",
   "metadata": {},
   "source": [
    "\n",
    "### Problema\n",
    "\n",
    "El concursante debe elegir una puerta entre tres (todas cerradas); el premio consiste en llevarse lo que se encuentra detrás de la elegida. Se sabe con certeza que tras una de ellas se oculta un automóvil, y tras las otras dos hay cabras. Una vez que el concursante haya elegido una puerta y comunicado su elección a los presentes, el presentador, que sabe lo que hay detrás de cada puerta, abrirá una de las otras dos en la que haya una cabra. A continuación, le da la opción al concursante de cambiar, si lo desea, de puerta (tiene dos opciones). ¿Debe el concursante mantener su elección original o escoger la otra puerta? ¿Hay alguna diferencia?\n"
   ]
  },
  {
   "cell_type": "markdown",
   "metadata": {},
   "source": [
    "\n",
    "### Premisas\n",
    "\n",
    "- Existe un solo premio de valor que sería el auto\n",
    "- El participante solo puede eligir 1 puerta\n",
    "- El presentador siempre abre una puerta que no contiene el premio de valor\n",
    "- El participante luego de que el presentador abra una puerta puede escoger entre quedarse con la que eligio inicialmente o cambiarla\n",
    "\n"
   ]
  },
  {
   "cell_type": "markdown",
   "metadata": {},
   "source": [
    "### Definicion de variables\n",
    "\n",
    "- ___X___: puerta en la que esta el premio - variable aleatoria independiente\n",
    "- ___Y___: elección inicial del participante - variable aleatoria independiente\n",
    "- ___Z___: puerta sin premio abierta por el presentador - variable aleatoria dependiente\n"
   ]
  },
  {
   "cell_type": "code",
   "execution_count": 1,
   "metadata": {},
   "outputs": [],
   "source": [
    "#Importamos las librerias\n",
    "import random\n",
    "import numpy as np"
   ]
  },
  {
   "cell_type": "code",
   "execution_count": 2,
   "metadata": {},
   "outputs": [],
   "source": [
    "def random_X():\n",
    "    '''\n",
    "    Función que devuelve el valor de X\n",
    "    '''\n",
    "    value=int(random.uniform(1,4))\n",
    "    if value ==4:\n",
    "        value-=1\n",
    "    return value\n",
    "def random_Y():\n",
    "    '''\n",
    "    Función que devuelve el valor de Y\n",
    "    '''\n",
    "    value=int(random.uniform(1,4))\n",
    "    if value ==4:\n",
    "        value-=1\n",
    "    return value\n",
    "\n",
    "def random_Z(X,Y):\n",
    "    '''\n",
    "    Función que devuelve el valor de Z dado el valor de X e Y\n",
    "    '''\n",
    "    doors=[1,2,3]\n",
    "    try:\n",
    "        if X==Y:\n",
    "            doors.remove(X)\n",
    "            return doors[int(random.uniform(0,2))]\n",
    "            \n",
    "        else:\n",
    "            doors.remove(Y)\n",
    "            doors.remove(X)\n",
    "            return doors[0]\n",
    "        \n",
    "    except:\n",
    "        print(\"Ups...esa puerta no existe\")\n",
    "        raise ValueError('Error en numero de puerta')\n"
   ]
  },
  {
   "cell_type": "markdown",
   "metadata": {},
   "source": [
    "### Casos a probar\n",
    "\n",
    "Voy a crear un diccionario cuya clave sera cuantos intentos el participante hará antes de optar por la estrategia de cambiar de puerta. \n",
    "A cada clave le correspondera un vector que me indicara con 1 cuando ganó y con 0 cuando perdio\n",
    "\n",
    "Visto que queremos saber si conviene cambiar la elección, vamos a decir que 0 implica que nunca cambia su elección, y que 1 su inversa"
   ]
  },
  {
   "cell_type": "code",
   "execution_count": 3,
   "metadata": {},
   "outputs": [],
   "source": [
    "#Defino escenarios cantidad de escenarios\n",
    "n_cases=2\n",
    "\n",
    "#Creo un diccionario que me dice cada cuantos intentos en el juego el participante decide cambiar de elección\n",
    "case={}\n",
    "for i in range(0,n_cases):\n",
    "    #setdefault nos permite ver si una llave esta en el diccionario, si no existe la agrega c/ un valor por defecto\n",
    "    case.setdefault(i,[]) \n",
    "\n",
    "# 0 = nunca cambia de la elección inicial | 1 = siempre cambia de la elección inicial | n = al intento n cambia la elección inicial  "
   ]
  },
  {
   "cell_type": "markdown",
   "metadata": {},
   "source": [
    "### Simulacion\n",
    "\n",
    "1. Se define cuantas juegos se jugaran\n",
    "2. Se determina la puerta con premio (X) y la eleccioón inicial (Y).\n",
    "3. Abre la puerta el presentador (Z)\n",
    "4. Evaluo cada caso - for loop a traves del diccionario\n",
    "5. Evaluo si gano o perdio y guardo el resultado"
   ]
  },
  {
   "cell_type": "code",
   "execution_count": 4,
   "metadata": {},
   "outputs": [],
   "source": [
    "#Defino cuantas veces voy a simular la variable aleatoria\n",
    "runs=10000\n",
    "\n",
    "for i in range (0,runs):\n",
    "    X=random_X()\n",
    "    Y=random_Y()\n",
    "    \n",
    "    #Obtengo el resultado para cada escenario\n",
    "    for j in case:\n",
    "        #Presentador abre la puerta Z\n",
    "        Z=random_Z(X,Y)\n",
    "        options=[1,2,3]\n",
    "        options.remove(Z)\n",
    "        if j==0 or i % j !=0: #Participante NO cambia de puerta \n",
    "            if Y == X: #Verifico si gano o perdio \n",
    "                case[j].extend([1])\n",
    "            else:\n",
    "                case[j].extend([0])\n",
    "        else: #Participante cambia de puerta \n",
    "            options.remove(Y)\n",
    "            if options[0] == X: #Verifico si gano o perdio \n",
    "                case[j].extend([1])\n",
    "            else:\n",
    "                case[j].extend([0])\n",
    "            \n",
    "                "
   ]
  },
  {
   "cell_type": "markdown",
   "metadata": {},
   "source": [
    "### Resultados y conclusiones\n",
    "\n",
    "Obtendremos para cada caso el porcentaje de victorias como cantidad de victorias sobre total de simulaciones hechas. \n",
    "\n",
    "Aquel caso cuyo valor sea mayor será la mejor estrategia a tomar ante el problema."
   ]
  },
  {
   "cell_type": "code",
   "execution_count": 5,
   "metadata": {},
   "outputs": [
    {
     "name": "stdout",
     "output_type": "stream",
     "text": [
      "Cambiar siempre de puerta es la mejor estrategia - Probabilidad de victoria: 66.8%\n"
     ]
    }
   ],
   "source": [
    "perc_victories = []\n",
    "for i in case:\n",
    "    results=np.array(case[i])\n",
    "    perc_victories.append(np.sum(results)/runs)\n",
    "\n",
    "if np.argmax(perc_victories) == 0:\n",
    "    print('No cambiar de puerta es la mejor estrategia - Probabilidad de victoria: '+str(np.amax(perc_victories)*100)+'%')\n",
    "elif np.argmax(perc_victories)==1:\n",
    "    print('Cambiar siempre de puerta es la mejor estrategia - Probabilidad de victoria: '+str(np.amax(perc_victories)*100)+'%')\n",
    "else:\n",
    "    print('El caso '+str(np.argmax(perc_victories))+' es la mejor estrategia - Probabilidad de victoria: '+str(np.amax(perc_victories)*100)+'%')\n",
    "    "
   ]
  },
  {
   "cell_type": "code",
   "execution_count": 6,
   "metadata": {},
   "outputs": [
    {
     "data": {
      "text/plain": [
       "[0.332, 0.668]"
      ]
     },
     "execution_count": 6,
     "metadata": {},
     "output_type": "execute_result"
    }
   ],
   "source": [
    "perc_victories"
   ]
  },
  {
   "cell_type": "markdown",
   "metadata": {},
   "source": [
    "## Tarea para el hogar"
   ]
  },
  {
   "cell_type": "markdown",
   "metadata": {},
   "source": [
    "### La caja de Bertrand\n",
    "\n",
    "En una habitación hay tres escritorios iguales con dos cajones cada uno. Uno de los escritorios tiene una moneda de oro en cada cajón; otro tiene una moneda de plata en cada uno mientras que en el restante hay una moneda de cada metal. Desde afuera no hay manera de decidir qué contiene cada cajón.\n",
    "\n",
    "Usted entra en esa habitación y elige un cajón de cualquiera de los tres escritorios. Lo abre y descubre que adentro hay una moneda de oro. Aquí es donde viene la pregunta (y el problema):\n",
    "\n",
    "“¿Cuál es la probabilidad de que en el otro cajón del mismo escritorio, haya también una moneda de oro?”"
   ]
  },
  {
   "cell_type": "code",
   "execution_count": null,
   "metadata": {},
   "outputs": [],
   "source": []
  },
  {
   "cell_type": "markdown",
   "metadata": {},
   "source": [
    "### Paradoja de los hijos\n",
    "\n",
    "El matrimonio Smith camina por la calle y se encuentra a don Pepito. Don Pepito reconoce a su amigo del colegio José Smith, así que se detienen a saludarse: “Hola, don Pepito”, “Hola, don José”. “¿Recuerda usted a mi esposa?”-dice don José, señalando a su pareja. Don Pepito asiente-. ¿Y a mi hijo Joseíto? -dice, señalando a un chico que va a su lado.\n",
    "\n",
    "Sabiendo que el matrimonio Smith tiene dos hijos, ¿cuál es la probabilidad de que el otro hijo sea también varón? (Suponemos que la probabilidad de nacer hombre o mujer es 0.5)."
   ]
  },
  {
   "cell_type": "code",
   "execution_count": null,
   "metadata": {},
   "outputs": [],
   "source": []
  },
  {
   "cell_type": "markdown",
   "metadata": {},
   "source": [
    "### Problema del prisionero\n",
    "\n",
    "En una cárcel, tres prisioneros de historiales similares, solicitan el indulto a un tribunal. Poco después se sabe que el indulto ha sido concedido a dos de los tres presos. Uno de los prisioneros conoce a uno de los miembros del tribunal y sabe que si le pregunta podrá obtener algo de información. Podrá preguntarle por el nombre de uno de los indultados, pero no podrá preguntar si él es uno de ellos. \n",
    "\n",
    "Reflexionando, concluye que, si no pregunta, la probabilidad de ser uno de los indultados es 2/3; mientras que, si pregunta, obtendrá una respuesta, y entonces la probabilidad de ser él otro de los indultados es 1/2. Por lo tanto, concluye que será mejor no preguntar, puesto que eso solo le servirá para disminuir su probabilidad de ser uno de los indultados.\n",
    "\n",
    "¿Es correcto el razonamiento del preso?"
   ]
  },
  {
   "cell_type": "code",
   "execution_count": null,
   "metadata": {},
   "outputs": [],
   "source": []
  }
 ],
 "metadata": {
  "kernelspec": {
   "display_name": "Python 3",
   "language": "python",
   "name": "python3"
  },
  "language_info": {
   "codemirror_mode": {
    "name": "ipython",
    "version": 3
   },
   "file_extension": ".py",
   "mimetype": "text/x-python",
   "name": "python",
   "nbconvert_exporter": "python",
   "pygments_lexer": "ipython3",
   "version": "3.7.5"
  }
 },
 "nbformat": 4,
 "nbformat_minor": 2
}
